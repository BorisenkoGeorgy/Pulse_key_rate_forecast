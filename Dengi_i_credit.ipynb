{
 "cells": [
  {
   "cell_type": "code",
   "execution_count": 1,
   "metadata": {},
   "outputs": [],
   "source": [
    "import gc\n",
    "from functools import reduce\n",
    "from datetime import datetime, timedelta\n",
    "\n",
    "import polars as pl\n",
    "import matplotlib.pyplot as plt"
   ]
  },
  {
   "cell_type": "markdown",
   "metadata": {},
   "source": [
    "# Отделяем новости про ставку ЦБ"
   ]
  },
  {
   "cell_type": "code",
   "execution_count": 4,
   "metadata": {},
   "outputs": [],
   "source": [
    "df = pl.read_parquet(\"Article 3 Data/posts/preprocessed.parquet\")"
   ]
  },
  {
   "cell_type": "code",
   "execution_count": null,
   "metadata": {},
   "outputs": [],
   "source": [
    "def preprocess_rate_dataset(df: pl.DataFrame, col: str='message'):\n",
    "    df_rate = df.filter(pl.col('timestamp') >= datetime(2019, 9, 3))\n",
    "    df_rate = df_rate.filter(pl.col(col).str.to_lowercase().str.contains('ставк'))\n",
    "    df_rate = df_rate.filter(~pl.col(col).str.to_lowercase().str.contains_any(['ставка на', 'ставки на']))\n",
    "    df_rate = df_rate.filter(~pl.col(col).str.to_lowercase().str.contains('итоги'))\n",
    "    df_rate = df_rate.filter(~pl.col(col).str.to_lowercase().str.contains('youtube'))\n",
    "    df_rate = df_rate.filter(~pl.col(col).str.to_lowercase().str.contains('rutube'))\n",
    "    df_rate = df_rate.filter(~pl.col(col).str.to_lowercase().str.contains_any(['поставк', 'доставк', 'приставк', 'приставк', 'заставк', 'выставк', 'отставк']))\n",
    "    df_rate = df_rate.filter(~pl.col(col).str.to_lowercase().str.contains('загруз'))\n",
    "    df_rate = df_rate.filter(~pl.col(col).str.to_lowercase().str.contains('маржа'))\n",
    "    df_rate = df_rate.filter(~pl.col(col).str.to_lowercase().str.contains('кред'))\n",
    "    df_rate = df_rate.filter(~pl.col(col).str.to_lowercase().str.contains('депоз'))\n",
    "    df_rate = df_rate.filter(~pl.col(col).str.to_lowercase().str.contains('вклад'))\n",
    "    df_rate = df_rate.filter(~pl.col(col).str.to_lowercase().str.contains('накопитель'))\n",
    "    df_rate = df_rate.filter(~pl.col(col).str.to_lowercase().str.contains('счет'))\n",
    "    df_rate = df_rate.filter(~pl.col(col).str.to_lowercase().str.contains('купон'))\n",
    "    df_rate = df_rate.filter(~pl.col(col).str.to_lowercase().str.contains('компенс'))\n",
    "    df_rate = df_rate.filter(~pl.col(col).str.to_lowercase().str.contains('льгот'))\n",
    "    df_rate = df_rate.filter(~pl.col(col).str.to_lowercase().str.contains('ипотек'))\n",
    "    df_rate = df_rate.filter(~pl.col(col).str.to_lowercase().str.contains('выпуск'))\n",
    "    df_rate = df_rate.filter(~pl.col(col).str.to_lowercase().str.contains_any(['япон', 'америк', 'фрс', 'ецб', 'сша', 'армен', 'аргентин', 'кита', 'герман', 'франц', 'евпроп', 'австрал', 'канад', 'мексик', 'украин', 'белорус', 'казахс', 'зеланд', 'евроз', 'великобрит', 'англ', 'бразил', 'инди', 'вьетна', 'таджикис', 'азербайдж', 'киргиз', 'узбекист', 'грузи', 'франц', 'германи', 'турц', 'польш']))\n",
    "    df_rate = df_rate.filter(~pl.col(col).str.to_lowercase().str.contains('облиг'))\n",
    "    df_rate = df_rate.filter(~pl.col(col).str.to_lowercase().str.contains('своп'))\n",
    "    df_rate = df_rate.filter(~pl.col(col).str.to_lowercase().str.contains('ваши ставки'))\n",
    "    df_rate = df_rate.filter(~pl.col(col).str.to_lowercase().str.contains('ставок'))\n",
    "    df_rate = df_rate.filter(~pl.col(col).str.to_lowercase().str.contains('реклам'))\n",
    "    df_rate = df_rate.filter(~pl.col(col).str.to_lowercase().str.contains(\"(?i)(ставк.*делать|делать.*ставк)\"))\n",
    "    df_rate = df_rate.filter(~pl.col(col).str.to_lowercase().str.contains(\"(?i)(ставк.*делаю|делаю.*ставк)\"))\n",
    "    df_rate = df_rate.filter(~pl.col(col).str.to_lowercase().str.contains(\"(?i)(ставк.*сделаны|сделаны.*ставк)\"))\n",
    "    df_rate = df_rate.filter(~pl.col(col).str.to_lowercase().str.contains(\"(?i)(ставк.*сделал|сделал.*ставк)\"))\n",
    "    df_rate = df_rate.filter(~pl.col(col).str.to_lowercase().str.contains(\"(?i)(ставк.*делал|делал.*ставк)\"))\n",
    "    df_rate = df_rate.filter(~pl.col(col).str.to_lowercase().str.contains(\"(?i)(ставк.*делаем|делаем.*ставк)\"))\n",
    "    df_rate = df_rate.filter(~pl.col(col).str.to_lowercase().str.contains(\"(?i)(ставк.*делайте|делайте.*ставк)\"))\n",
    "    df_rate = df_rate.filter(~pl.col(col).str.to_lowercase().str.contains(\"(?i)(ставк.*принима|принима.*ставк)\"))\n",
    "    df_rate = df_rate.filter(~pl.col(col).str.to_lowercase().str.contains(\"(?i)(ставк.*стави|стави.*ставк)\"))\n",
    "    df_rate = df_rate.filter(~pl.col(col).str.to_lowercase().str.contains(\"(?i)(ставк.*ставл|ставл.*ставк)\"))\n",
    "    df_rate = df_rate.filter(~pl.col(col).str.to_lowercase().str.contains(\"(?i)(ставк.*ставь|ставь.*ставк)\"))\n",
    "    df_rate = df_rate.filter(~pl.col(col).str.to_lowercase().str.contains(\"(?i)(выигры.*ставк|выигры.*ставк)\"))\n",
    "    df_rate = df_rate.filter(~pl.col(col).str.to_lowercase().str.contains_any(['повысил', 'увеличил', 'понизил', 'снизил', 'уменьшил', 'изменил', 'оставил', 'повышена', 'понижена', 'изменена', 'увеличена', 'уменьшена']))\n",
    "    df_rate = df_rate.filter(~pl.col(col).str.to_lowercase().str.contains_any(['сыграл', 'сработал']))\n",
    "    df_rate = df_rate.filter(~pl.col(col).str.to_lowercase().str.contains('ставки риска'))\n",
    "    df_rate = df_rate.filter(~pl.col(col).str.to_lowercase().str.contains('спред'))\n",
    "    df_rate = df_rate.filter(~pl.col(col).str.to_lowercase().str.contains('заявил'))\n",
    "    df_rate = df_rate.filter(~pl.col(col).str.to_lowercase().str.contains('совпало'))\n",
    "    df_rate = df_rate.filter(~pl.col(col).str.to_lowercase().str.contains('займ'))\n",
    "    df_rate = df_rate.filter(~pl.col(col).str.to_lowercase().str.contains('повлиял'))\n",
    "    df_rate = df_rate.filter(~pl.col(col).str.to_lowercase().str.contains('37%'))\n",
    "    df_rate = df_rate.filter(~pl.col(col).str.to_lowercase().str.contains('ставкам'))\n",
    "    df_rate = df_rate.filter(~pl.col(col).str.to_lowercase().str.contains('налог'))\n",
    "    df_rate = df_rate.filter(~pl.col(col).str.to_lowercase().str.contains('s&p 500'))\n",
    "    df_rate = df_rate.filter(~pl.col(col).str.to_lowercase().str.contains('моя ставка'))\n",
    "    df_rate = df_rate.filter(~pl.col(col).str.to_lowercase().str.contains('мои ставки'))\n",
    "    return df_rate\n",
    "# df_rate = df_rate.with_columns(length = pl.col('message').map_elements(len, return_dtype=int))\n",
    "# df_rate = df_rate.filter(pl.col('length') < 200)"
   ]
  },
  {
   "cell_type": "code",
   "execution_count": 6,
   "metadata": {},
   "outputs": [
    {
     "name": "stdout",
     "output_type": "stream",
     "text": [
      "33732\n",
      "10371\n",
      "9015\n",
      "7811\n",
      "6691\n",
      "5644\n"
     ]
    }
   ],
   "source": [
    "rate_dfs = {}\n",
    "for col in ['message', *[f'comment_{i}' for i in range(1, 6)]]:\n",
    "    rate_dfs[col] = preprocess_rate_dataset(df, col)\n",
    "    print(len(rate_dfs[col]))"
   ]
  },
  {
   "cell_type": "code",
   "execution_count": 2,
   "metadata": {},
   "outputs": [],
   "source": [
    "rate_dates = [datetime(2019, 10, 25, 13, 30), datetime(2019, 12, 13, 13, 30), datetime(2020, 2, 7, 13, 30), datetime(2020, 3, 20, 13, 30), datetime(2020, 4, 24, 13, 30),\n",
    "              datetime(2020, 6, 19, 13, 30), datetime(2020, 7, 24, 13, 30), datetime(2020, 9, 18, 13, 30), datetime(2020, 10, 23, 13, 30), datetime(2020, 12, 18, 13, 30),\n",
    "              datetime(2021, 2, 12, 13, 30), datetime(2021, 3, 19, 13, 30), datetime(2021, 4, 23, 13, 30), datetime(2021, 6, 11, 13, 30), datetime(2021, 7, 23, 13, 30),\n",
    "              datetime(2021, 9, 10, 13, 30), datetime(2021, 10, 22, 13, 30), datetime(2021, 12, 17, 13, 30), datetime(2022, 2, 11, 13, 30), datetime(2022, 2, 28, 9, 46),\n",
    "              datetime(2022, 3, 18, 13, 30), datetime(2022, 4, 8, 11, 41), datetime(2022, 4, 29, 13, 30), datetime(2022, 5, 26, 10, 30), datetime(2022, 6, 10, 13, 30),\n",
    "              datetime(2022, 7, 22, 13, 30), datetime(2022, 9, 16, 13, 30), datetime(2022, 10, 28, 13, 30), datetime(2022, 12, 16, 13, 30), datetime(2023, 2, 10, 13, 30),\n",
    "              datetime(2023, 3, 17, 13, 30), datetime(2023, 4, 28, 13, 30), datetime(2023, 6, 9, 13, 30), datetime(2023, 7, 21, 13, 30), datetime(2023, 8, 15, 10, 30),\n",
    "              datetime(2023, 9, 15, 13, 30), datetime(2023, 10, 27, 13, 30), datetime(2023, 12, 15, 13, 30), datetime(2024, 2, 16, 13, 30), datetime(2024, 3, 22, 13, 30),\n",
    "              datetime(2024, 4, 26, 13, 30), datetime(2024, 6, 7, 13, 30), datetime(2024, 7, 26, 13, 30), datetime(2024, 9, 13, 13, 30), datetime(2024, 10, 25, 13, 30),\n",
    "              datetime(2024, 12, 20, 13, 30), datetime(2025, 2, 14, 13, 30), datetime(2025, 3, 21, 13, 30), datetime(2025, 4, 25, 13, 30)\n",
    "              ]\n",
    "\n",
    "rates = [7, 6.5, 6.25, 6, 6, 5.5, \n",
    "         4.5, 4.25, 4.25, 4.25, 4.25, \n",
    "         4.25, 4.5, 5, 5.5, 6.5,\n",
    "         6.75, 7.5, 8.5, 9.5, 20,\n",
    "         20, 17, 14, 11, 9.5,\n",
    "         8, 7.5, 7.5, 7.5, 7.5,\n",
    "         7.5, 7.5, 7.5, 8.5, 12,\n",
    "         13, 15, 16, 16, 16,\n",
    "         16, 16, 18, 19, 21,\n",
    "         21, 21, 21, 21\n",
    "        ]\n",
    "\n",
    "forecast = [6.5, 6.25, 6, 6, 5.5,\n",
    "            4.5, 4.25, 4.25, 4.25, 4.25,\n",
    "            4.25, 4.25, 4.75, 5.5, 6.5,\n",
    "            7.25, 7.25, 8.5, 9.5, 20,\n",
    "            22, 18, 15, 12, 9.5,\n",
    "            9, 7.5, 7.5, 7.5, 7.5,\n",
    "            7.5, 7.5, 7.5, 8, 10,\n",
    "            13, 14, 16, 16, 16,\n",
    "            16, 16, 18, 19, 20,\n",
    "            23, 21, 21, 21]"
   ]
  },
  {
   "cell_type": "code",
   "execution_count": 28,
   "metadata": {},
   "outputs": [
    {
     "name": "stdout",
     "output_type": "stream",
     "text": [
      "13370\n",
      "3549\n",
      "2877\n",
      "2534\n",
      "2042\n",
      "1732\n"
     ]
    }
   ],
   "source": [
    "for key, time_col in zip(rate_dfs, ['timestamp', 'date_1', 'date_2', 'date_3', 'date_4', 'date_5']):\n",
    "    conditions = [pl.col(time_col).is_between(dt - timedelta(7), dt, closed='left') for dt in rate_dates]\n",
    "    rate_dfs[key] = rate_dfs[key].filter(\n",
    "        reduce(lambda a, b: a | b, conditions)\n",
    "    )\n",
    "    print(len(rate_dfs[key]))"
   ]
  },
  {
   "cell_type": "code",
   "execution_count": 29,
   "metadata": {},
   "outputs": [],
   "source": [
    "for key in rate_dfs:\n",
    "    rate_dfs[key].write_parquet(f'Dengi_i_credit/{key}.parquet')"
   ]
  },
  {
   "cell_type": "markdown",
   "metadata": {},
   "source": [
    "# Обработка ответов LLM и выделение ответов, где она не справилась с 1-ого раза"
   ]
  },
  {
   "cell_type": "code",
   "execution_count": 1,
   "metadata": {},
   "outputs": [],
   "source": [
    "import os\n",
    "import polars as pl"
   ]
  },
  {
   "cell_type": "code",
   "execution_count": null,
   "metadata": {},
   "outputs": [],
   "source": [
    "dfs = {}\n",
    "files = [f.replace('.parquet', '') for f in os.listdir('Dengi_i_credit/with targets retry retry retry')]\n",
    "for file in files:\n",
    "    dfs[file] = pl.read_parquet(f'Dengi_i_credit/with targets retry retry retry/{file}.parquet')"
   ]
  },
  {
   "cell_type": "code",
   "execution_count": 3,
   "metadata": {},
   "outputs": [],
   "source": [
    "for key in dfs:\n",
    "    dfs[key] = dfs[key].with_columns(pl.col('responses').str.replace_many([' ', '\\n'], ['', '']).str.extract(r'(0|1,-1|1,[0-2])$').alias('pattern'))"
   ]
  },
  {
   "cell_type": "code",
   "execution_count": 4,
   "metadata": {},
   "outputs": [],
   "source": [
    "for key in dfs:\n",
    "    dfs[key] = dfs[key].with_columns(\n",
    "        pl.when(\n",
    "            pl.col('responses').str.contains('не относится')\n",
    "        ).then(\n",
    "        0\n",
    "        ).otherwise(pl.col('pattern')).alias('pattern')\n",
    "    )"
   ]
  },
  {
   "cell_type": "code",
   "execution_count": 5,
   "metadata": {},
   "outputs": [
    {
     "data": {
      "text/html": [
       "<div><style>\n",
       ".dataframe > thead > tr,\n",
       ".dataframe > tbody > tr {\n",
       "  text-align: right;\n",
       "  white-space: pre-wrap;\n",
       "}\n",
       "</style>\n",
       "<small>shape: (317, 22)</small><table border=\"1\" class=\"dataframe\"><thead><tr><th>author</th><th>id</th><th>timestamp</th><th>message</th><th>tickers</th><th>prices</th><th>n_comments</th><th>reactions</th><th>n_reactions</th><th>date_1</th><th>date_2</th><th>date_3</th><th>date_4</th><th>date_5</th><th>comment_1</th><th>comment_2</th><th>comment_3</th><th>comment_4</th><th>comment_5</th><th>responses</th><th>reasons</th><th>pattern</th></tr><tr><td>str</td><td>str</td><td>datetime[μs]</td><td>str</td><td>list[str]</td><td>list[str]</td><td>i64</td><td>list[str]</td><td>i64</td><td>datetime[μs]</td><td>datetime[μs]</td><td>datetime[μs]</td><td>datetime[μs]</td><td>datetime[μs]</td><td>str</td><td>str</td><td>str</td><td>str</td><td>str</td><td>str</td><td>str</td><td>str</td></tr></thead><tbody><tr><td>&quot;Godzilla777&quot;</td><td>&quot;8ca310b5-6f7a-42df-bbcd-5168ce…</td><td>2020-06-15 05:25:00</td><td>&quot;$ROSN ставки господа ..вниз ил…</td><td>[&quot;ROSN&quot;]</td><td>[&quot;366,15₽+30,67%&quot;]</td><td>24</td><td>[&quot;083b50db-7d1b-43a0-aae3-88a73e8c3c39?size=small&quot;]</td><td>1</td><td>2020-06-15 07:00:00</td><td>2020-06-15 07:37:00</td><td>2020-06-15 07:39:00</td><td>2020-06-15 07:39:00</td><td>2020-06-15 08:34:00</td><td>&quot;Вниз&quot;</td><td>&quot;@KevinZit пора уже вверх, див …</td><td>&quot;Я только за. Азия красная, поэ…</td><td>&quot;@Golden_BuIl Я только за. Азия…</td><td>&quot;@Golden_BuIl вниз , нефть упал…</td><td>&quot;Не понятно!\n",
       "\n",
       "Ответ:\n",
       "\n",
       "1, 2&quot;</td><td>&quot;stop&quot;</td><td>&quot;1,2&quot;</td></tr><tr><td>&quot;KotObormot&quot;</td><td>&quot;ff917495-b66b-4087-ac35-d64171…</td><td>2020-09-12 09:39:00</td><td>&quot;Ставки в банках ниже, ниже, Ст…</td><td>null</td><td>null</td><td>null</td><td>[&quot;083b50db-7d1b-43a0-aae3-88a73e8c3c39?size=small&quot;]</td><td>2</td><td>null</td><td>null</td><td>null</td><td>null</td><td>null</td><td>null</td><td>null</td><td>null</td><td>null</td><td>null</td><td>&quot;Ответ:\n",
       "\n",
       "1,2&quot;</td><td>&quot;stop&quot;</td><td>&quot;1,2&quot;</td></tr><tr><td>&quot;RS13&quot;</td><td>&quot;c7dfe85a-b387-45d3-9c58-aaecfb…</td><td>2020-09-16 18:14:00</td><td>&quot;$TSLA Федеральная резервная си…</td><td>[&quot;TSLA&quot;]</td><td>[&quot;147,25$+207,33%&quot;]</td><td>null</td><td>[&quot;083b50db-7d1b-43a0-aae3-88a73e8c3c39?size=small&quot;]</td><td>2</td><td>null</td><td>null</td><td>null</td><td>null</td><td>null</td><td>null</td><td>null</td><td>null</td><td>null</td><td>null</td><td>&quot;Как по мне - это пролог к повы…</td><td>&quot;stop&quot;</td><td>&quot;0&quot;</td></tr><tr><td>&quot;Elfag&quot;</td><td>&quot;38b924e5-103a-4e9c-bf5e-f80dfd…</td><td>2020-10-22 16:54:00</td><td>&quot;$RIG Нууу, проиграл недавно де…</td><td>[&quot;RIG&quot;]</td><td>[&quot;0,82$+329,27%&quot;]</td><td>1</td><td>null</td><td>null</td><td>2020-10-22 18:05:00</td><td>null</td><td>null</td><td>null</td><td>null</td><td>&quot;риг, ставки, казино, лотерея..…</td><td>null</td><td>null</td><td>null</td><td>null</td><td>&quot;Комментарий:\n",
       "\n",
       "1,2&quot;</td><td>&quot;stop&quot;</td><td>&quot;1,2&quot;</td></tr><tr><td>&quot;kozhan&quot;</td><td>&quot;36f2ab5c-31e5-4a1a-9073-5223ea…</td><td>2021-02-08 09:18:00</td><td>&quot;{$GTHX} вопрос к знающим: оцен…</td><td>null</td><td>null</td><td>13</td><td>[&quot;083b50db-7d1b-43a0-aae3-88a73e8c3c39?size=small&quot;]</td><td>3</td><td>2021-02-08 09:35:00</td><td>2021-02-08 09:39:00</td><td>2021-02-08 09:43:00</td><td>2021-02-08 09:54:00</td><td>2021-02-08 09:55:00</td><td>&quot;Обещанного три года ждут.&quot;</td><td>&quot;@12311_553 человек старался ра…</td><td>&quot;@gdfl коротко и по существу.&quot;</td><td>&quot;Потенциальная стоимость в неяс…</td><td>&quot;Как они выйдут на такие отметк…</td><td>&quot;Ответ:\n",
       "\n",
       "1,-1&quot;</td><td>&quot;stop&quot;</td><td>&quot;1,-1&quot;</td></tr><tr><td>&hellip;</td><td>&hellip;</td><td>&hellip;</td><td>&hellip;</td><td>&hellip;</td><td>&hellip;</td><td>&hellip;</td><td>&hellip;</td><td>&hellip;</td><td>&hellip;</td><td>&hellip;</td><td>&hellip;</td><td>&hellip;</td><td>&hellip;</td><td>&hellip;</td><td>&hellip;</td><td>&hellip;</td><td>&hellip;</td><td>&hellip;</td><td>&hellip;</td><td>&hellip;</td><td>&hellip;</td></tr><tr><td>&quot;Artamonov81&quot;</td><td>&quot;2134e449-46f5-42ef-839b-21d38d…</td><td>2025-03-21 10:16:00</td><td>&quot;$SMLT закрытие биржи во скольк…</td><td>[&quot;SMLT&quot;]</td><td>[&quot;1 463,5₽−22,82%&quot;]</td><td>5</td><td>[&quot;083b50db-7d1b-43a0-aae3-88a73e8c3c39?size=small&quot;]</td><td>null</td><td>2025-03-21 10:17:00</td><td>2025-03-21 10:17:00</td><td>2025-03-21 10:18:00</td><td>2025-03-21 10:18:00</td><td>2025-03-21 10:19:00</td><td>&quot;Она не закрывается&quot;</td><td>&quot;@itriple обычно на 5-8 минут п…</td><td>&quot;@Artamonov81 нет, поверь. В 13…</td><td>&quot;@Artamonov81 просто моментальн…</td><td>&quot;@itriple это хорошо, я в шорт …</td><td>&quot;Комментарий: \n",
       "\n",
       "1&quot;</td><td>&quot;stop&quot;</td><td>null</td></tr><tr><td>&quot;UncleDemon&quot;</td><td>&quot;5e5d1e27-14b7-47ae-89b7-16991e…</td><td>2025-03-21 10:19:00</td><td>&quot;Сегодня у Сергея Лаврова юбиле…</td><td>null</td><td>null</td><td>1</td><td>null</td><td>null</td><td>2025-03-21 10:36:00</td><td>null</td><td>null</td><td>null</td><td>null</td><td>&quot;Судя по всему он шортист.... (…</td><td>null</td><td>null</td><td>null</td><td>null</td><td>&quot;Комментарий относится к ключев…</td><td>&quot;stop&quot;</td><td>null</td></tr><tr><td>&quot;WinnerTakesAll&quot;</td><td>&quot;a7f996ce-6e62-4a09-8e21-a254e2…</td><td>2025-03-21 10:37:00</td><td>&quot;#ставкаЦБ 21.03.2025г. ЦБ сохр…</td><td>null</td><td>null</td><td>null</td><td>null</td><td>null</td><td>null</td><td>null</td><td>null</td><td>null</td><td>null</td><td>null</td><td>null</td><td>null</td><td>null</td><td>null</td><td>&quot;в боулинге, ставка сохранена н…</td><td>&quot;stop&quot;</td><td>&quot;1,0&quot;</td></tr><tr><td>&quot;__VLD__&quot;</td><td>&quot;2eb32c4c-7ffd-4f7d-b2dd-6c9c70…</td><td>2025-03-21 10:57:00</td><td>&quot;$TMOS $TDIV ставка 21 как и ож…</td><td>[&quot;TMOS&quot;, &quot;TDIV&quot;]</td><td>[&quot;7,02₽−12,39%&quot;, &quot;10,7₽−9,07%&quot;]</td><td>3</td><td>[&quot;083b50db-7d1b-43a0-aae3-88a73e8c3c39?size=small&quot;]</td><td>4</td><td>2025-03-21 11:53:00</td><td>2025-03-21 12:10:00</td><td>2025-03-21 12:11:00</td><td>null</td><td>null</td><td>&quot;Подскажите 3200 это по какому …</td><td>&quot;@SHKPT об индексе моськи говор…</td><td>&quot;@agresor86 Спасибки😉&quot;</td><td>null</td><td>null</td><td>&quot;Ответ:\n",
       "\n",
       "1,0&quot;</td><td>&quot;stop&quot;</td><td>&quot;1,0&quot;</td></tr><tr><td>&quot;LazyCAT90&quot;</td><td>&quot;61f6d88a-ad87-4e97-954f-b67c33…</td><td>2025-03-21 11:06:00</td><td>&quot;$SBER Если нефть не начнет рас…</td><td>[&quot;SBER&quot;]</td><td>[&quot;323,26₽−7,82%&quot;]</td><td>null</td><td>null</td><td>null</td><td>null</td><td>null</td><td>null</td><td>null</td><td>null</td><td>null</td><td>null</td><td>null</td><td>null</td><td>null</td><td>&quot;Ответ: 1,2&quot;</td><td>&quot;stop&quot;</td><td>&quot;1,2&quot;</td></tr></tbody></table></div>"
      ],
      "text/plain": [
       "shape: (317, 22)\n",
       "┌────────────┬────────────┬────────────┬───────────┬───┬───────────┬───────────┬─────────┬─────────┐\n",
       "│ author     ┆ id         ┆ timestamp  ┆ message   ┆ … ┆ comment_5 ┆ responses ┆ reasons ┆ pattern │\n",
       "│ ---        ┆ ---        ┆ ---        ┆ ---       ┆   ┆ ---       ┆ ---       ┆ ---     ┆ ---     │\n",
       "│ str        ┆ str        ┆ datetime[μ ┆ str       ┆   ┆ str       ┆ str       ┆ str     ┆ str     │\n",
       "│            ┆            ┆ s]         ┆           ┆   ┆           ┆           ┆         ┆         │\n",
       "╞════════════╪════════════╪════════════╪═══════════╪═══╪═══════════╪═══════════╪═════════╪═════════╡\n",
       "│ Godzilla77 ┆ 8ca310b5-6 ┆ 2020-06-15 ┆ $ROSN     ┆ … ┆ @Golden_B ┆ Не        ┆ stop    ┆ 1,2     │\n",
       "│ 7          ┆ f7a-42df-b ┆ 05:25:00   ┆ ставки    ┆   ┆ uIl вниз  ┆ понятно!  ┆         ┆         │\n",
       "│            ┆ bcd-5168ce ┆            ┆ господа   ┆   ┆ , нефть   ┆           ┆         ┆         │\n",
       "│            ┆ …          ┆            ┆ ..вниз    ┆   ┆ упал…     ┆ Ответ:    ┆         ┆         │\n",
       "│            ┆            ┆            ┆ ил…       ┆   ┆           ┆           ┆         ┆         │\n",
       "│            ┆            ┆            ┆           ┆   ┆           ┆ 1, 2      ┆         ┆         │\n",
       "│ KotObormot ┆ ff917495-b ┆ 2020-09-12 ┆ Ставки в  ┆ … ┆ null      ┆ Ответ:    ┆ stop    ┆ 1,2     │\n",
       "│            ┆ 66b-4087-a ┆ 09:39:00   ┆ банках    ┆   ┆           ┆           ┆         ┆         │\n",
       "│            ┆ c35-d64171 ┆            ┆ ниже,     ┆   ┆           ┆ 1,2       ┆         ┆         │\n",
       "│            ┆ …          ┆            ┆ ниже, Ст… ┆   ┆           ┆           ┆         ┆         │\n",
       "│ RS13       ┆ c7dfe85a-b ┆ 2020-09-16 ┆ $TSLA Фед ┆ … ┆ null      ┆ Как по    ┆ stop    ┆ 0       │\n",
       "│            ┆ 387-45d3-9 ┆ 18:14:00   ┆ еральная  ┆   ┆           ┆ мне - это ┆         ┆         │\n",
       "│            ┆ c58-aaecfb ┆            ┆ резервная ┆   ┆           ┆ пролог к  ┆         ┆         │\n",
       "│            ┆ …          ┆            ┆ си…       ┆   ┆           ┆ повы…     ┆         ┆         │\n",
       "│ Elfag      ┆ 38b924e5-1 ┆ 2020-10-22 ┆ $RIG      ┆ … ┆ null      ┆ Комментар ┆ stop    ┆ 1,2     │\n",
       "│            ┆ 03a-4e9c-b ┆ 16:54:00   ┆ Нууу,     ┆   ┆           ┆ ий:       ┆         ┆         │\n",
       "│            ┆ f5e-f80dfd ┆            ┆ проиграл  ┆   ┆           ┆           ┆         ┆         │\n",
       "│            ┆ …          ┆            ┆ недавно   ┆   ┆           ┆ 1,2       ┆         ┆         │\n",
       "│            ┆            ┆            ┆ де…       ┆   ┆           ┆           ┆         ┆         │\n",
       "│ kozhan     ┆ 36f2ab5c-3 ┆ 2021-02-08 ┆ {$GTHX}   ┆ … ┆ Как они   ┆ Ответ:    ┆ stop    ┆ 1,-1    │\n",
       "│            ┆ 1e5-4a1a-9 ┆ 09:18:00   ┆ вопрос к  ┆   ┆ выйдут на ┆           ┆         ┆         │\n",
       "│            ┆ 073-5223ea ┆            ┆ знающим:  ┆   ┆ такие     ┆ 1,-1      ┆         ┆         │\n",
       "│            ┆ …          ┆            ┆ оцен…     ┆   ┆ отметк…   ┆           ┆         ┆         │\n",
       "│ …          ┆ …          ┆ …          ┆ …         ┆ … ┆ …         ┆ …         ┆ …       ┆ …       │\n",
       "│ Artamonov8 ┆ 2134e449-4 ┆ 2025-03-21 ┆ $SMLT     ┆ … ┆ @itriple  ┆ Комментар ┆ stop    ┆ null    │\n",
       "│ 1          ┆ 6f5-42ef-8 ┆ 10:16:00   ┆ закрытие  ┆   ┆ это       ┆ ий:       ┆         ┆         │\n",
       "│            ┆ 39b-21d38d ┆            ┆ биржи во  ┆   ┆ хорошо, я ┆           ┆         ┆         │\n",
       "│            ┆ …          ┆            ┆ скольк…   ┆   ┆ в шорт …  ┆ 1         ┆         ┆         │\n",
       "│ UncleDemon ┆ 5e5d1e27-1 ┆ 2025-03-21 ┆ Сегодня у ┆ … ┆ null      ┆ Комментар ┆ stop    ┆ null    │\n",
       "│            ┆ 4b7-47ae-8 ┆ 10:19:00   ┆ Сергея    ┆   ┆           ┆ ий        ┆         ┆         │\n",
       "│            ┆ 9b7-16991e ┆            ┆ Лаврова   ┆   ┆           ┆ относится ┆         ┆         │\n",
       "│            ┆ …          ┆            ┆ юбиле…    ┆   ┆           ┆ к ключев… ┆         ┆         │\n",
       "│ WinnerTake ┆ a7f996ce-6 ┆ 2025-03-21 ┆ #ставкаЦБ ┆ … ┆ null      ┆ в         ┆ stop    ┆ 1,0     │\n",
       "│ sAll       ┆ e62-4a09-8 ┆ 10:37:00   ┆ 21.03.202 ┆   ┆           ┆ боулинге, ┆         ┆         │\n",
       "│            ┆ e21-a254e2 ┆            ┆ 5г. ЦБ    ┆   ┆           ┆ ставка    ┆         ┆         │\n",
       "│            ┆ …          ┆            ┆ сохр…     ┆   ┆           ┆ сохранена ┆         ┆         │\n",
       "│            ┆            ┆            ┆           ┆   ┆           ┆ н…        ┆         ┆         │\n",
       "│ __VLD__    ┆ 2eb32c4c-7 ┆ 2025-03-21 ┆ $TMOS     ┆ … ┆ null      ┆ Ответ:    ┆ stop    ┆ 1,0     │\n",
       "│            ┆ ffd-4f7d-b ┆ 10:57:00   ┆ $TDIV     ┆   ┆           ┆           ┆         ┆         │\n",
       "│            ┆ 2dd-6c9c70 ┆            ┆ ставка 21 ┆   ┆           ┆ 1,0       ┆         ┆         │\n",
       "│            ┆ …          ┆            ┆ как и ож… ┆   ┆           ┆           ┆         ┆         │\n",
       "│ LazyCAT90  ┆ 61f6d88a-a ┆ 2025-03-21 ┆ $SBER     ┆ … ┆ null      ┆ Ответ:    ┆ stop    ┆ 1,2     │\n",
       "│            ┆ d87-4e97-9 ┆ 11:06:00   ┆ Если      ┆   ┆           ┆ 1,2       ┆         ┆         │\n",
       "│            ┆ 54f-b67c33 ┆            ┆ нефть не  ┆   ┆           ┆           ┆         ┆         │\n",
       "│            ┆ …          ┆            ┆ начнет    ┆   ┆           ┆           ┆         ┆         │\n",
       "│            ┆            ┆            ┆ рас…      ┆   ┆           ┆           ┆         ┆         │\n",
       "└────────────┴────────────┴────────────┴───────────┴───┴───────────┴───────────┴─────────┴─────────┘"
      ]
     },
     "execution_count": 5,
     "metadata": {},
     "output_type": "execute_result"
    }
   ],
   "source": [
    "dfs[key]"
   ]
  },
  {
   "cell_type": "code",
   "execution_count": 177,
   "metadata": {},
   "outputs": [],
   "source": [
    "for key in dfs:\n",
    "    dfs[key].write_parquet(f'Dengi_i_credit/with targets retry retry retry/{file}.parquet')"
   ]
  },
  {
   "cell_type": "code",
   "execution_count": 176,
   "metadata": {},
   "outputs": [
    {
     "name": "stdout",
     "output_type": "stream",
     "text": [
      "0\n",
      "0\n",
      "0\n",
      "0\n",
      "0\n",
      "0\n"
     ]
    }
   ],
   "source": [
    "for file in files:\n",
    "    tmp = dfs[file].filter(pl.col('pattern').is_null())\n",
    "    print(len(tmp))\n",
    "    # tmp.write_parquet(f'Dengi_i_credit/retry/{file}_retry.parquet')"
   ]
  },
  {
   "cell_type": "markdown",
   "metadata": {},
   "source": [
    "# Собираем все в один датасет для дальнейшего анализа"
   ]
  },
  {
   "cell_type": "code",
   "execution_count": 5,
   "metadata": {},
   "outputs": [],
   "source": [
    "# folders = ['with targets', 'with targets retry', 'with targets retry retry', 'with targets retry retry retry']\n",
    "# keys = [f.replace('.parquet', '') for f in os.listdir('Dengi_i_credit/with targets')]\n",
    "# dfs = {}\n",
    "# for key in keys:\n",
    "#     dfs[key] = []\n",
    "#     for folder in folders:\n",
    "#         dfs[key].append(pl.read_parquet(f'Dengi_i_credit/{folder}/{key}.parquet'))\n",
    "#     dfs[key] = pl.concat(dfs[key]).filter(pl.col('pattern').is_not_null()).unique('id').sort('timestamp')"
   ]
  },
  {
   "cell_type": "code",
   "execution_count": null,
   "metadata": {},
   "outputs": [],
   "source": [
    "# for key in keys:\n",
    "#     dfs[key].write_parquet(f'Dengi_i_credit/with targets/{key}.parquet')"
   ]
  },
  {
   "cell_type": "code",
   "execution_count": 3,
   "metadata": {},
   "outputs": [],
   "source": [
    "import os\n",
    "import polars as pl\n",
    "import numpy as np\n",
    "\n",
    "dfs = {}\n",
    "keys = [f.replace('.parquet', '') for f in os.listdir('Dengi_i_credit/with targets')]\n",
    "for key in keys:\n",
    "    dfs[key] = pl.read_parquet(f'Dengi_i_credit/with targets/{key}.parquet')"
   ]
  },
  {
   "cell_type": "code",
   "execution_count": 4,
   "metadata": {},
   "outputs": [
    {
     "name": "stdout",
     "output_type": "stream",
     "text": [
      "comment_1 2179\n",
      "comment_2 1047\n",
      "comment_3 1217\n",
      "comment_4 1344\n",
      "comment_5 1187\n",
      "message 8342\n"
     ]
    }
   ],
   "source": [
    "# Фильтруем комментарии, которые не относятся к ставке ЦБ\n",
    "for key in keys:\n",
    "    dfs[key] = dfs[key].filter(pl.col('pattern') != '0', pl.col('pattern') != '1,2')\n",
    "    dfs[key] = dfs[key].with_columns(direction=pl.col('pattern').map_elements(lambda x: int(x.replace('1,', '')), return_dtype=int))\n",
    "    print(key, len(dfs[key]))"
   ]
  },
  {
   "cell_type": "code",
   "execution_count": 5,
   "metadata": {},
   "outputs": [],
   "source": [
    "conditions = []\n",
    "for i, target_date in enumerate(rate_dates):\n",
    "    start_interval = target_date - timedelta(days=7)\n",
    "    condition = (pl.col(\"timestamp\") >= start_interval) & (pl.col(\"timestamp\") < target_date)\n",
    "    conditions.append((condition, target_date))  # (условие, индекс)"
   ]
  },
  {
   "cell_type": "code",
   "execution_count": 6,
   "metadata": {},
   "outputs": [],
   "source": [
    "agg_df = pl.concat([dfs[key] for key in dfs]).with_columns(\n",
    "    pl.coalesce(\n",
    "        *[\n",
    "            pl.when(cond).then(pl.lit(target_date))\n",
    "            for cond, target_date in conditions\n",
    "        ]\n",
    "    ).alias(\"interval_index\")\n",
    ").group_by('interval_index').agg(\n",
    "                                pl.col('direction').filter(pl.col('direction')==-1).count().alias('cut'),\n",
    "                                pl.col('direction').filter(pl.col('direction')==0).count().alias('keep'),\n",
    "                                pl.col('direction').filter(pl.col('direction')==1).count().alias('hike'),\n",
    "                                (pl.col('direction').filter(pl.col('direction')==-1).count() / pl.col('direction').count()).alias('cut%'),\n",
    "                                (pl.col('direction').filter(pl.col('direction')==0).count() / pl.col('direction').count()).alias('keep%'),\n",
    "                                (pl.col('direction').filter(pl.col('direction')==1).count() / pl.col('direction').count()).alias('hike%'),\n",
    "                                pl.col('direction').count().alias('total')\n",
    "                                ).sort('interval_index').filter(pl.col('interval_index').is_not_null())"
   ]
  },
  {
   "cell_type": "code",
   "execution_count": 7,
   "metadata": {},
   "outputs": [],
   "source": [
    "# 0 — опустят, 1 — не изменят, 2 — поднимут\n",
    "investor_preds = agg_df[['cut%', 'keep%', 'hike%']].to_numpy().argmax(axis=1).tolist()"
   ]
  },
  {
   "cell_type": "code",
   "execution_count": 8,
   "metadata": {},
   "outputs": [],
   "source": [
    "real_decision = []\n",
    "for r0, r1 in zip(rates[:-1], rates[1:-1]):\n",
    "    if r0 > r1:\n",
    "        real_decision.append(0)\n",
    "    elif r0 == r1:\n",
    "        real_decision.append(1)\n",
    "    else:\n",
    "        real_decision.append(2)"
   ]
  },
  {
   "cell_type": "code",
   "execution_count": 9,
   "metadata": {},
   "outputs": [
    {
     "data": {
      "text/plain": [
       "0.8958333333333334"
      ]
     },
     "execution_count": 9,
     "metadata": {},
     "output_type": "execute_result"
    }
   ],
   "source": [
    "(np.array(investor_preds) == np.array(real_decision)).mean()"
   ]
  },
  {
   "cell_type": "code",
   "execution_count": 10,
   "metadata": {},
   "outputs": [
    {
     "data": {
      "text/html": [
       "<div><style>\n",
       ".dataframe > thead > tr,\n",
       ".dataframe > tbody > tr {\n",
       "  text-align: right;\n",
       "  white-space: pre-wrap;\n",
       "}\n",
       "</style>\n",
       "<small>shape: (5, 8)</small><table border=\"1\" class=\"dataframe\"><thead><tr><th>interval_index</th><th>cut</th><th>keep</th><th>hike</th><th>cut%</th><th>keep%</th><th>hike%</th><th>total</th></tr><tr><td>datetime[μs]</td><td>u32</td><td>u32</td><td>u32</td><td>f64</td><td>f64</td><td>f64</td><td>u32</td></tr></thead><tbody><tr><td>2020-02-07 13:30:00</td><td>4</td><td>8</td><td>0</td><td>0.333333</td><td>0.666667</td><td>0.0</td><td>12</td></tr><tr><td>2020-03-20 13:30:00</td><td>5</td><td>15</td><td>17</td><td>0.135135</td><td>0.405405</td><td>0.459459</td><td>37</td></tr><tr><td>2020-06-19 13:30:00</td><td>23</td><td>27</td><td>9</td><td>0.389831</td><td>0.457627</td><td>0.152542</td><td>59</td></tr><tr><td>2022-03-18 13:30:00</td><td>9</td><td>40</td><td>63</td><td>0.080357</td><td>0.357143</td><td>0.5625</td><td>112</td></tr><tr><td>2024-12-20 13:30:00</td><td>135</td><td>347</td><td>378</td><td>0.156977</td><td>0.403488</td><td>0.439535</td><td>860</td></tr></tbody></table></div>"
      ],
      "text/plain": [
       "shape: (5, 8)\n",
       "┌─────────────────────┬─────┬──────┬──────┬──────────┬──────────┬──────────┬───────┐\n",
       "│ interval_index      ┆ cut ┆ keep ┆ hike ┆ cut%     ┆ keep%    ┆ hike%    ┆ total │\n",
       "│ ---                 ┆ --- ┆ ---  ┆ ---  ┆ ---      ┆ ---      ┆ ---      ┆ ---   │\n",
       "│ datetime[μs]        ┆ u32 ┆ u32  ┆ u32  ┆ f64      ┆ f64      ┆ f64      ┆ u32   │\n",
       "╞═════════════════════╪═════╪══════╪══════╪══════════╪══════════╪══════════╪═══════╡\n",
       "│ 2020-02-07 13:30:00 ┆ 4   ┆ 8    ┆ 0    ┆ 0.333333 ┆ 0.666667 ┆ 0.0      ┆ 12    │\n",
       "│ 2020-03-20 13:30:00 ┆ 5   ┆ 15   ┆ 17   ┆ 0.135135 ┆ 0.405405 ┆ 0.459459 ┆ 37    │\n",
       "│ 2020-06-19 13:30:00 ┆ 23  ┆ 27   ┆ 9    ┆ 0.389831 ┆ 0.457627 ┆ 0.152542 ┆ 59    │\n",
       "│ 2022-03-18 13:30:00 ┆ 9   ┆ 40   ┆ 63   ┆ 0.080357 ┆ 0.357143 ┆ 0.5625   ┆ 112   │\n",
       "│ 2024-12-20 13:30:00 ┆ 135 ┆ 347  ┆ 378  ┆ 0.156977 ┆ 0.403488 ┆ 0.439535 ┆ 860   │\n",
       "└─────────────────────┴─────┴──────┴──────┴──────────┴──────────┴──────────┴───────┘"
      ]
     },
     "execution_count": 10,
     "metadata": {},
     "output_type": "execute_result"
    }
   ],
   "source": [
    "agg_df.filter(np.array(investor_preds) != np.array(real_decision))"
   ]
  },
  {
   "cell_type": "code",
   "execution_count": 11,
   "metadata": {},
   "outputs": [
    {
     "data": {
      "text/plain": [
       "array([0, 1, 0, 1, 1])"
      ]
     },
     "execution_count": 11,
     "metadata": {},
     "output_type": "execute_result"
    }
   ],
   "source": [
    "np.array(real_decision)[np.array(investor_preds) != np.array(real_decision)]"
   ]
  },
  {
   "cell_type": "code",
   "execution_count": 12,
   "metadata": {},
   "outputs": [],
   "source": [
    "analytics_preds = []\n",
    "for r0, r1 in zip(rates[:-1], forecast[:-1]):\n",
    "    if r0 > r1:\n",
    "        analytics_preds.append(0)\n",
    "    elif r0 == r1:\n",
    "        analytics_preds.append(1)\n",
    "    else:\n",
    "        analytics_preds.append(2)"
   ]
  },
  {
   "cell_type": "code",
   "execution_count": 13,
   "metadata": {},
   "outputs": [
    {
     "data": {
      "text/plain": [
       "0.9375"
      ]
     },
     "execution_count": 13,
     "metadata": {},
     "output_type": "execute_result"
    }
   ],
   "source": [
    "(np.array(analytics_preds) == np.array(real_decision)).mean()"
   ]
  },
  {
   "cell_type": "code",
   "execution_count": 14,
   "metadata": {},
   "outputs": [
    {
     "data": {
      "text/html": [
       "<div><style>\n",
       ".dataframe > thead > tr,\n",
       ".dataframe > tbody > tr {\n",
       "  text-align: right;\n",
       "  white-space: pre-wrap;\n",
       "}\n",
       "</style>\n",
       "<small>shape: (3, 8)</small><table border=\"1\" class=\"dataframe\"><thead><tr><th>interval_index</th><th>cut</th><th>keep</th><th>hike</th><th>cut%</th><th>keep%</th><th>hike%</th><th>total</th></tr><tr><td>datetime[μs]</td><td>u32</td><td>u32</td><td>u32</td><td>f64</td><td>f64</td><td>f64</td><td>u32</td></tr></thead><tbody><tr><td>2021-03-19 13:30:00</td><td>4</td><td>56</td><td>64</td><td>0.032258</td><td>0.451613</td><td>0.516129</td><td>124</td></tr><tr><td>2022-03-18 13:30:00</td><td>9</td><td>40</td><td>63</td><td>0.080357</td><td>0.357143</td><td>0.5625</td><td>112</td></tr><tr><td>2024-12-20 13:30:00</td><td>135</td><td>347</td><td>378</td><td>0.156977</td><td>0.403488</td><td>0.439535</td><td>860</td></tr></tbody></table></div>"
      ],
      "text/plain": [
       "shape: (3, 8)\n",
       "┌─────────────────────┬─────┬──────┬──────┬──────────┬──────────┬──────────┬───────┐\n",
       "│ interval_index      ┆ cut ┆ keep ┆ hike ┆ cut%     ┆ keep%    ┆ hike%    ┆ total │\n",
       "│ ---                 ┆ --- ┆ ---  ┆ ---  ┆ ---      ┆ ---      ┆ ---      ┆ ---   │\n",
       "│ datetime[μs]        ┆ u32 ┆ u32  ┆ u32  ┆ f64      ┆ f64      ┆ f64      ┆ u32   │\n",
       "╞═════════════════════╪═════╪══════╪══════╪══════════╪══════════╪══════════╪═══════╡\n",
       "│ 2021-03-19 13:30:00 ┆ 4   ┆ 56   ┆ 64   ┆ 0.032258 ┆ 0.451613 ┆ 0.516129 ┆ 124   │\n",
       "│ 2022-03-18 13:30:00 ┆ 9   ┆ 40   ┆ 63   ┆ 0.080357 ┆ 0.357143 ┆ 0.5625   ┆ 112   │\n",
       "│ 2024-12-20 13:30:00 ┆ 135 ┆ 347  ┆ 378  ┆ 0.156977 ┆ 0.403488 ┆ 0.439535 ┆ 860   │\n",
       "└─────────────────────┴─────┴──────┴──────┴──────────┴──────────┴──────────┴───────┘"
      ]
     },
     "execution_count": 14,
     "metadata": {},
     "output_type": "execute_result"
    }
   ],
   "source": [
    "agg_df.filter(np.array(analytics_preds) != np.array(real_decision))"
   ]
  },
  {
   "cell_type": "code",
   "execution_count": 15,
   "metadata": {},
   "outputs": [
    {
     "data": {
      "text/plain": [
       "array([2, 1, 1])"
      ]
     },
     "execution_count": 15,
     "metadata": {},
     "output_type": "execute_result"
    }
   ],
   "source": [
    "np.array(real_decision)[np.array(analytics_preds) != np.array(real_decision)]"
   ]
  },
  {
   "cell_type": "code",
   "execution_count": 16,
   "metadata": {},
   "outputs": [
    {
     "data": {
      "text/plain": [
       "array([1, 2, 2])"
      ]
     },
     "execution_count": 16,
     "metadata": {},
     "output_type": "execute_result"
    }
   ],
   "source": [
    "np.array(analytics_preds)[np.array(analytics_preds) != np.array(real_decision)]"
   ]
  }
 ],
 "metadata": {
  "kernelspec": {
   "display_name": "Python 3",
   "language": "python",
   "name": "python3"
  },
  "language_info": {
   "codemirror_mode": {
    "name": "ipython",
    "version": 3
   },
   "file_extension": ".py",
   "mimetype": "text/x-python",
   "name": "python",
   "nbconvert_exporter": "python",
   "pygments_lexer": "ipython3",
   "version": "3.13.1"
  }
 },
 "nbformat": 4,
 "nbformat_minor": 2
}
