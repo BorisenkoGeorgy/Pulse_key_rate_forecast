{
 "cells": [
  {
   "cell_type": "code",
   "execution_count": 2,
   "metadata": {},
   "outputs": [],
   "source": [
    "import os\n",
    "import gzip\n",
    "import shutil\n",
    "import requests\n",
    "import xmltodict\n",
    "\n",
    "from tqdm import tqdm\n",
    "\n",
    "from bs4 import BeautifulSoup"
   ]
  },
  {
   "cell_type": "markdown",
   "metadata": {},
   "source": [
    "# Обработка данных"
   ]
  },
  {
   "cell_type": "markdown",
   "metadata": {},
   "source": [
    "## Комментарии"
   ]
  },
  {
   "cell_type": "code",
   "execution_count": 1,
   "metadata": {},
   "outputs": [],
   "source": [
    "import gc\n",
    "import polars as pl"
   ]
  },
  {
   "cell_type": "code",
   "execution_count": 2,
   "metadata": {},
   "outputs": [],
   "source": [
    "df = pl.read_parquet(\"Article 3 Data/posts/gathered.parquet\")"
   ]
  },
  {
   "cell_type": "code",
   "execution_count": 29,
   "metadata": {},
   "outputs": [],
   "source": [
    "df = df.with_columns(pl.when(pl.col('tickers').list.len() > 0).then(pl.col('tickers')),\n",
    "                     pl.when(pl.col('prices').list.len() > 0).then(pl.col('prices')),\n",
    "                     pl.when(pl.col('comments').list.len() > 0).then(pl.col('comments')),\n",
    "                     pl.when(pl.col('reactions').list.len() > 0).then(pl.col('reactions')))"
   ]
  },
  {
   "cell_type": "code",
   "execution_count": 30,
   "metadata": {},
   "outputs": [],
   "source": [
    "dct = {'января': '01', 'февраля': '02', 'марта': '03', 'апреля': '04', 'мая': '05', 'июня': '06', 'июля': '07', 'августа': '08', 'сентября': '09', 'октября': '10', 'ноября': '11', 'декабря': '12'}"
   ]
  },
  {
   "cell_type": "code",
   "execution_count": 31,
   "metadata": {},
   "outputs": [],
   "source": [
    "def preprocess_timestamp(df, timestamp_col, drop_nulls=False):\n",
    "    df = df.with_columns(pl.col(timestamp_col).str.replace_many(list(dct.keys()), list(dct.values())))\n",
    "    df = df.with_columns(pl.col(timestamp_col).str.replace(' в', ''))\n",
    "    df = df.with_columns(pl.col(timestamp_col).str.to_datetime('%d %m %Y %H:%M', strict=False))\n",
    "    if drop_nulls:\n",
    "        df = df.drop_nulls(timestamp_col)\n",
    "    df = df.with_columns(pl.col('message').str.replace_many(['\\n', '\\xa0', '&nbsp;'], [' ', ' ', ' ']))\n",
    "    return df\n",
    "\n",
    "df = preprocess_timestamp(df, 'timestamp', drop_nulls=True)"
   ]
  },
  {
   "cell_type": "code",
   "execution_count": 32,
   "metadata": {},
   "outputs": [],
   "source": [
    "df = df.filter(~((pl.col('message') == 'empty') | (pl.col('message') == 'error'))).unique().sort('timestamp')"
   ]
  },
  {
   "cell_type": "code",
   "execution_count": 42,
   "metadata": {},
   "outputs": [],
   "source": [
    "df.write_parquet('Article 3 Data/posts/preprocessed.parquet')"
   ]
  },
  {
   "cell_type": "markdown",
   "metadata": {},
   "source": [
    "#### Обработка комментариев к комментариям"
   ]
  },
  {
   "cell_type": "code",
   "execution_count": 4,
   "metadata": {},
   "outputs": [],
   "source": [
    "df = pl.read_parquet('Article 3 Data/posts/preprocessed.parquet')"
   ]
  },
  {
   "cell_type": "code",
   "execution_count": 28,
   "metadata": {},
   "outputs": [],
   "source": [
    "# df.filter(pl.col('n_comments').rank(descending=True)==100)"
   ]
  },
  {
   "cell_type": "code",
   "execution_count": 34,
   "metadata": {},
   "outputs": [
    {
     "name": "stderr",
     "output_type": "stream",
     "text": [
      "  0%|          | 0/56712 [00:00<?, ?it/s]"
     ]
    }
   ],
   "source": [
    "from tqdm import tqdm\n",
    "\n",
    "def w_pbar(pbar, func):\n",
    "    def foo(*args, **kwargs):\n",
    "        pbar.update(1)\n",
    "        return func(*args, **kwargs)\n",
    "\n",
    "    return foo\n",
    "\n",
    "pbar = tqdm(total=len(df))"
   ]
  },
  {
   "cell_type": "code",
   "execution_count": 35,
   "metadata": {},
   "outputs": [
    {
     "name": "stderr",
     "output_type": "stream",
     "text": [
      " 68%|██████▊   | 38797/56712 [00:03<00:00, 28705.19it/s]"
     ]
    }
   ],
   "source": [
    "def expand_comments(comments):\n",
    "    # Инициализируем список значений None для 5 комментариев\n",
    "    expanded = [None] * 10  # 5 дат + 5 комментариев\n",
    "    \n",
    "    if comments is not None:\n",
    "        for i, (date, comment) in enumerate(comments):\n",
    "            expanded[i] = date       # Дата i-го комментария\n",
    "            expanded[i + 5] = comment # Комментарий i-го комментария\n",
    "    \n",
    "    return expanded\n",
    "\n",
    "# Применяем функцию и создаем новые колонки\n",
    "df = df.with_columns(\n",
    "    pl.col(\"comments\").map_elements(\n",
    "        w_pbar(pbar, lambda x: expand_comments(x)),\n",
    "        return_dtype=pl.List(pl.Utf8)\n",
    "    ).alias(\"expanded_comments\")\n",
    ")\n",
    "\n",
    "# Разделяем expanded_comments на отдельные колонки\n",
    "df = df.with_columns(\n",
    "    *[\n",
    "        pl.col(\"expanded_comments\").list.get(i).alias(f\"{prefix}_{j+1}\")\n",
    "        for i in range(10)\n",
    "        for j, prefix in [(i, \"date\") if i < 5 else (i-5, \"comment\")]\n",
    "    ]\n",
    ").drop(\"expanded_comments\")"
   ]
  },
  {
   "cell_type": "code",
   "execution_count": 37,
   "metadata": {},
   "outputs": [],
   "source": [
    "for i in range(5):\n",
    "    df = preprocess_timestamp(df, f'date_{i+1}', drop_nulls=False)"
   ]
  },
  {
   "cell_type": "code",
   "execution_count": 38,
   "metadata": {},
   "outputs": [
    {
     "data": {
      "text/html": [
       "<div><style>\n",
       ".dataframe > thead > tr,\n",
       ".dataframe > tbody > tr {\n",
       "  text-align: right;\n",
       "  white-space: pre-wrap;\n",
       "}\n",
       "</style>\n",
       "<small>shape: (56_712, 20)</small><table border=\"1\" class=\"dataframe\"><thead><tr><th>author</th><th>id</th><th>timestamp</th><th>message</th><th>tickers</th><th>prices</th><th>n_comments</th><th>comments</th><th>reactions</th><th>n_reactions</th><th>date_1</th><th>date_2</th><th>date_3</th><th>date_4</th><th>date_5</th><th>comment_1</th><th>comment_2</th><th>comment_3</th><th>comment_4</th><th>comment_5</th></tr><tr><td>str</td><td>str</td><td>datetime[μs]</td><td>str</td><td>list[str]</td><td>list[str]</td><td>i64</td><td>list[list[str]]</td><td>list[str]</td><td>i64</td><td>datetime[μs]</td><td>datetime[μs]</td><td>datetime[μs]</td><td>datetime[μs]</td><td>datetime[μs]</td><td>str</td><td>str</td><td>str</td><td>str</td><td>str</td></tr></thead><tbody><tr><td>&quot;T-Journal&quot;</td><td>&quot;5908908c-0c37-3026-96f2-e926a6…</td><td>2018-02-13 11:48:00</td><td>&quot;Годовой отчет Nvidia: рост выр…</td><td>null</td><td>null</td><td>1</td><td>[[&quot;10 августа 2023 в 13:44&quot;, &quot;10&quot;]]</td><td>null</td><td>null</td><td>2023-08-10 13:44:00</td><td>null</td><td>null</td><td>null</td><td>null</td><td>&quot;10&quot;</td><td>null</td><td>null</td><td>null</td><td>null</td></tr><tr><td>&quot;vc.ru&quot;</td><td>&quot;db161da4-646c-3be8-a0a7-509483…</td><td>2018-06-26 17:18:00</td><td>&quot;Калифорнийский стартап Ice Ene…</td><td>[&quot;LNT&quot;, &quot;CNP&quot;]</td><td>[&quot;42,28$+45,74%&quot;, &quot;27,33$+39,96%&quot;]</td><td>null</td><td>null</td><td>null</td><td>null</td><td>null</td><td>null</td><td>null</td><td>null</td><td>null</td><td>null</td><td>null</td><td>null</td><td>null</td><td>null</td></tr><tr><td>&quot;Interfax&quot;</td><td>&quot;5db638fc-3ac7-33bb-8431-6c7f15…</td><td>2018-06-28 08:08:00</td><td>&quot;Apple и Samsung урегулировали …</td><td>[&quot;AAPL&quot;]</td><td>[&quot;46,38$+354,53%&quot;]</td><td>null</td><td>null</td><td>null</td><td>null</td><td>null</td><td>null</td><td>null</td><td>null</td><td>null</td><td>null</td><td>null</td><td>null</td><td>null</td><td>null</td></tr><tr><td>&quot;vc.ru&quot;</td><td>&quot;a71d23b9-5c90-384e-9762-5509ac…</td><td>2018-06-30 08:39:00</td><td>&quot;Мессенджер WhatsApp представил…</td><td>null</td><td>null</td><td>null</td><td>null</td><td>null</td><td>null</td><td>null</td><td>null</td><td>null</td><td>null</td><td>null</td><td>null</td><td>null</td><td>null</td><td>null</td><td>null</td></tr><tr><td>&quot;vc.ru&quot;</td><td>&quot;5bb400ee-2e25-3443-9683-a3c0e7…</td><td>2018-07-26 11:36:00</td><td>&quot;Редакция российского Forbes об…</td><td>null</td><td>null</td><td>null</td><td>null</td><td>null</td><td>null</td><td>null</td><td>null</td><td>null</td><td>null</td><td>null</td><td>null</td><td>null</td><td>null</td><td>null</td><td>null</td></tr><tr><td>&hellip;</td><td>&hellip;</td><td>&hellip;</td><td>&hellip;</td><td>&hellip;</td><td>&hellip;</td><td>&hellip;</td><td>&hellip;</td><td>&hellip;</td><td>&hellip;</td><td>&hellip;</td><td>&hellip;</td><td>&hellip;</td><td>&hellip;</td><td>&hellip;</td><td>&hellip;</td><td>&hellip;</td><td>&hellip;</td><td>&hellip;</td><td>&hellip;</td></tr><tr><td>&quot;Dmitry1261988&quot;</td><td>&quot;ebeae89c-855a-48a7-bac4-aedf8d…</td><td>2025-04-13 14:45:00</td><td>&quot;$FLOT Ну что где ваши анализы …</td><td>[&quot;FLOT&quot;]</td><td>[&quot;85,4₽+6,9%&quot;]</td><td>5</td><td>[[&quot;13 апреля 2025 в 15:12&quot;, &quot;Что случилось 😳, где торги, или это стакан на меня смотрит&quot;], [&quot;13 апреля 2025 в 15:13&quot;, &quot;@lexx400 хотят всех на куканить&quot;], … [&quot;13 апреля 2025 в 15:19&quot;, &quot;@Dmitry1261988 ну опять 25, переговоры и ещё одни переговоры. По черноморской сделки может уже решат. Буду ждать. Спасибо. Не является иир&quot;]]</td><td>null</td><td>null</td><td>2025-04-13 15:12:00</td><td>2025-04-13 15:13:00</td><td>2025-04-13 15:14:00</td><td>2025-04-13 15:17:00</td><td>2025-04-13 15:19:00</td><td>&quot;Что случилось 😳, где торги, ил…</td><td>&quot;@lexx400 хотят всех на куканит…</td><td>&quot;Ну с ВТБ это уже терпимо, а по…</td><td>&quot;@lexx400 только если из наших …</td><td>&quot;@Dmitry1261988 ну опять 25, пе…</td></tr><tr><td>&quot;Torreodor8888&quot;</td><td>&quot;cc461b86-4663-473c-9b6e-10181c…</td><td>2025-04-13 15:00:00</td><td>&quot;$GAZP как думаете, планку раск…</td><td>[&quot;GAZP&quot;]</td><td>[&quot;135,95₽+13,95%&quot;]</td><td>5</td><td>[[&quot;13 апреля 2025 в 15:04&quot;, &quot;Можно неспеша шорт набирать пока ракетчикам заявки на покупку исполняют&quot;], [&quot;13 апреля 2025 в 15:05&quot;, &quot;@Adition риск большой&quot;], … [&quot;13 апреля 2025 в 15:09&quot;, &quot;@PlankTowa&nbsp;&nbsp;шо даже тут на бирже ?🤭🙄&quot;]]</td><td>[&quot;083b50db-7d1b-43a0-aae3-88a73e8c3c39?size=small&quot;, &quot;083b50db-7d1b-43a0-aae3-88a73e8c3c39?size=small&quot;, &quot;083b50db-7d1b-43a0-aae3-88a73e8c3c39?size=small&quot;]</td><td>1</td><td>2025-04-13 15:04:00</td><td>2025-04-13 15:05:00</td><td>2025-04-13 15:05:00</td><td>2025-04-13 15:07:00</td><td>2025-04-13 15:09:00</td><td>&quot;Можно неспеша шорт набирать по…</td><td>&quot;@Adition риск большой&quot;</td><td>&quot;@Torreodor8888 он всегда и вез…</td><td>&quot;@Torreodor8888 я думаю кто сей…</td><td>&quot;@PlankTowa&nbsp;&nbsp;шо даже тут на бир…</td></tr><tr><td>&quot;Analis_Rosta&quot;</td><td>&quot;11e8e6a2-ae51-4f84-9d49-c6c084…</td><td>2025-04-13 15:20:00</td><td>&quot;📊 Анализ графика акции ММК $MA…</td><td>[&quot;MAGN&quot;]</td><td>[&quot;33,5₽+3,63%&quot;]</td><td>1</td><td>[[&quot;14 апреля 2025 в 8:08&quot;, &quot;Поддержка оказалась неуверенной, не расстраивайтесь, вы типичный аналитик&quot;]]</td><td>[&quot;083b50db-7d1b-43a0-aae3-88a73e8c3c39?size=small&quot;, &quot;c53ba585-196d-48eb-a463-8d7fd3d6d141?size=small&quot;]</td><td>3</td><td>2025-04-14 08:08:00</td><td>null</td><td>null</td><td>null</td><td>null</td><td>&quot;Поддержка оказалась неуверенно…</td><td>null</td><td>null</td><td>null</td><td>null</td></tr><tr><td>&quot;andreses85&quot;</td><td>&quot;ab2e616b-1535-4e9d-bf5c-a826cb…</td><td>2025-04-13 16:05:00</td><td>&quot;На побережье Анапы найдены нов…</td><td>null</td><td>null</td><td>20</td><td>[[&quot;13 апреля 2025 в 16:08&quot;, &quot;Это будет всегда... Пока есть порт...&quot;], [&quot;13 апреля 2025 в 16:08&quot;, &quot;И до аварии это было... И будет...&quot;], … [&quot;13 апреля 2025 в 16:13&quot;, &quot;Добро пожаловать на отдых!&quot;]]</td><td>[&quot;083b50db-7d1b-43a0-aae3-88a73e8c3c39?size=small&quot;, &quot;083b50db-7d1b-43a0-aae3-88a73e8c3c39?size=small&quot;, … &quot;083b50db-7d1b-43a0-aae3-88a73e8c3c39?size=small&quot;]</td><td>10</td><td>2025-04-13 16:08:00</td><td>2025-04-13 16:08:00</td><td>2025-04-13 16:09:00</td><td>2025-04-13 16:09:00</td><td>2025-04-13 16:13:00</td><td>&quot;Это будет всегда... Пока есть …</td><td>&quot;И до аварии это было... И буде…</td><td>&quot;В космосе сколько...&quot;</td><td>&quot;На помойках сколько мусора...&quot;</td><td>&quot;Добро пожаловать на отдых!&quot;</td></tr><tr><td>&quot;74Pavel&quot;</td><td>&quot;cdfc2d22-a189-463d-b400-6685c7…</td><td>2025-04-13 16:15:00</td><td>&quot;Архипо-Осиповка..Удивительное …</td><td>null</td><td>null</td><td>null</td><td>null</td><td>null</td><td>null</td><td>null</td><td>null</td><td>null</td><td>null</td><td>null</td><td>null</td><td>null</td><td>null</td><td>null</td><td>null</td></tr></tbody></table></div>"
      ],
      "text/plain": [
       "shape: (56_712, 20)\n",
       "┌───────────┬───────────┬───────────┬───────────┬───┬───────────┬───────────┬───────────┬──────────┐\n",
       "│ author    ┆ id        ┆ timestamp ┆ message   ┆ … ┆ comment_2 ┆ comment_3 ┆ comment_4 ┆ comment_ │\n",
       "│ ---       ┆ ---       ┆ ---       ┆ ---       ┆   ┆ ---       ┆ ---       ┆ ---       ┆ 5        │\n",
       "│ str       ┆ str       ┆ datetime[ ┆ str       ┆   ┆ str       ┆ str       ┆ str       ┆ ---      │\n",
       "│           ┆           ┆ μs]       ┆           ┆   ┆           ┆           ┆           ┆ str      │\n",
       "╞═══════════╪═══════════╪═══════════╪═══════════╪═══╪═══════════╪═══════════╪═══════════╪══════════╡\n",
       "│ T-Journal ┆ 5908908c- ┆ 2018-02-1 ┆ Годовой   ┆ … ┆ null      ┆ null      ┆ null      ┆ null     │\n",
       "│           ┆ 0c37-3026 ┆ 3         ┆ отчет     ┆   ┆           ┆           ┆           ┆          │\n",
       "│           ┆ -96f2-e92 ┆ 11:48:00  ┆ Nvidia:   ┆   ┆           ┆           ┆           ┆          │\n",
       "│           ┆ 6a6…      ┆           ┆ рост выр… ┆   ┆           ┆           ┆           ┆          │\n",
       "│ vc.ru     ┆ db161da4- ┆ 2018-06-2 ┆ Калифорни ┆ … ┆ null      ┆ null      ┆ null      ┆ null     │\n",
       "│           ┆ 646c-3be8 ┆ 6         ┆ йский     ┆   ┆           ┆           ┆           ┆          │\n",
       "│           ┆ -a0a7-509 ┆ 17:18:00  ┆ стартап   ┆   ┆           ┆           ┆           ┆          │\n",
       "│           ┆ 483…      ┆           ┆ Ice Ene…  ┆   ┆           ┆           ┆           ┆          │\n",
       "│ Interfax  ┆ 5db638fc- ┆ 2018-06-2 ┆ Apple и   ┆ … ┆ null      ┆ null      ┆ null      ┆ null     │\n",
       "│           ┆ 3ac7-33bb ┆ 8         ┆ Samsung   ┆   ┆           ┆           ┆           ┆          │\n",
       "│           ┆ -8431-6c7 ┆ 08:08:00  ┆ урегулиро ┆   ┆           ┆           ┆           ┆          │\n",
       "│           ┆ f15…      ┆           ┆ вали …    ┆   ┆           ┆           ┆           ┆          │\n",
       "│ vc.ru     ┆ a71d23b9- ┆ 2018-06-3 ┆ Мессендже ┆ … ┆ null      ┆ null      ┆ null      ┆ null     │\n",
       "│           ┆ 5c90-384e ┆ 0         ┆ р         ┆   ┆           ┆           ┆           ┆          │\n",
       "│           ┆ -9762-550 ┆ 08:39:00  ┆ WhatsApp  ┆   ┆           ┆           ┆           ┆          │\n",
       "│           ┆ 9ac…      ┆           ┆ представи ┆   ┆           ┆           ┆           ┆          │\n",
       "│           ┆           ┆           ┆ л…        ┆   ┆           ┆           ┆           ┆          │\n",
       "│ vc.ru     ┆ 5bb400ee- ┆ 2018-07-2 ┆ Редакция  ┆ … ┆ null      ┆ null      ┆ null      ┆ null     │\n",
       "│           ┆ 2e25-3443 ┆ 6         ┆ российско ┆   ┆           ┆           ┆           ┆          │\n",
       "│           ┆ -9683-a3c ┆ 11:36:00  ┆ го Forbes ┆   ┆           ┆           ┆           ┆          │\n",
       "│           ┆ 0e7…      ┆           ┆ об…       ┆   ┆           ┆           ┆           ┆          │\n",
       "│ …         ┆ …         ┆ …         ┆ …         ┆ … ┆ …         ┆ …         ┆ …         ┆ …        │\n",
       "│ Dmitry126 ┆ ebeae89c- ┆ 2025-04-1 ┆ $FLOT Ну  ┆ … ┆ @lexx400  ┆ Ну с ВТБ  ┆ @lexx400  ┆ @Dmitry1 │\n",
       "│ 1988      ┆ 855a-48a7 ┆ 3         ┆ что где   ┆   ┆ хотят     ┆ это уже   ┆ только    ┆ 261988   │\n",
       "│           ┆ -bac4-aed ┆ 14:45:00  ┆ ваши      ┆   ┆ всех на   ┆ терпимо,  ┆ если из   ┆ ну опять │\n",
       "│           ┆ f8d…      ┆           ┆ анализы … ┆   ┆ куканит…  ┆ а по…     ┆ наших …   ┆ 25, пе…  │\n",
       "│ Torreodor ┆ cc461b86- ┆ 2025-04-1 ┆ $GAZP как ┆ … ┆ @Adition  ┆ @Torreodo ┆ @Torreodo ┆ @PlankTo │\n",
       "│ 8888      ┆ 4663-473c ┆ 3         ┆ думаете,  ┆   ┆ риск      ┆ r8888 он  ┆ r8888 я   ┆ wa  шо   │\n",
       "│           ┆ -9b6e-101 ┆ 15:00:00  ┆ планку    ┆   ┆ большой   ┆ всегда и  ┆ думаю кто ┆ даже тут │\n",
       "│           ┆ 81c…      ┆           ┆ раск…     ┆   ┆           ┆ вез…      ┆ сей…      ┆ на бир…  │\n",
       "│ Analis_Ro ┆ 11e8e6a2- ┆ 2025-04-1 ┆ 📊 Анализ ┆ … ┆ null      ┆ null      ┆ null      ┆ null     │\n",
       "│ sta       ┆ ae51-4f84 ┆ 3         ┆ графика   ┆   ┆           ┆           ┆           ┆          │\n",
       "│           ┆ -9d49-c6c ┆ 15:20:00  ┆ акции ММК ┆   ┆           ┆           ┆           ┆          │\n",
       "│           ┆ 084…      ┆           ┆ $MA…      ┆   ┆           ┆           ┆           ┆          │\n",
       "│ andreses8 ┆ ab2e616b- ┆ 2025-04-1 ┆ На        ┆ … ┆ И до      ┆ В космосе ┆ На        ┆ Добро    │\n",
       "│ 5         ┆ 1535-4e9d ┆ 3         ┆ побережье ┆   ┆ аварии    ┆ сколько.. ┆ помойках  ┆ пожалова │\n",
       "│           ┆ -bf5c-a82 ┆ 16:05:00  ┆ Анапы     ┆   ┆ это       ┆ .         ┆ сколько   ┆ ть на    │\n",
       "│           ┆ 6cb…      ┆           ┆ найдены   ┆   ┆ было... И ┆           ┆ мусора... ┆ отдых!   │\n",
       "│           ┆           ┆           ┆ нов…      ┆   ┆ буде…     ┆           ┆           ┆          │\n",
       "│ 74Pavel   ┆ cdfc2d22- ┆ 2025-04-1 ┆ Архипо-Ос ┆ … ┆ null      ┆ null      ┆ null      ┆ null     │\n",
       "│           ┆ a189-463d ┆ 3         ┆ иповка..У ┆   ┆           ┆           ┆           ┆          │\n",
       "│           ┆ -b400-668 ┆ 16:15:00  ┆ дивительн ┆   ┆           ┆           ┆           ┆          │\n",
       "│           ┆ 5c7…      ┆           ┆ ое …      ┆   ┆           ┆           ┆           ┆          │\n",
       "└───────────┴───────────┴───────────┴───────────┴───┴───────────┴───────────┴───────────┴──────────┘"
      ]
     },
     "execution_count": 38,
     "metadata": {},
     "output_type": "execute_result"
    }
   ],
   "source": [
    "df"
   ]
  },
  {
   "cell_type": "code",
   "execution_count": null,
   "metadata": {},
   "outputs": [],
   "source": [
    "# df.write_parquet('Article 3 Data/posts/preprocessed.parquet')"
   ]
  },
  {
   "cell_type": "markdown",
   "metadata": {},
   "source": [
    "## Профили"
   ]
  },
  {
   "cell_type": "code",
   "execution_count": 5,
   "metadata": {},
   "outputs": [],
   "source": [
    "df = pl.read_parquet('Article 3 Data/Profiles/gathered.parquet')"
   ]
  },
  {
   "cell_type": "code",
   "execution_count": 175,
   "metadata": {},
   "outputs": [],
   "source": [
    "df = df.rename({'column_0': 'staus', 'column_1': 'size', 'column_2': 'n_subscribtions',\n",
    "                 'column_3': 'n_subscribers', 'column_4': 'portfolio', 'column_5': 'trades', 'column_6': 'yields'})"
   ]
  },
  {
   "cell_type": "code",
   "execution_count": 176,
   "metadata": {},
   "outputs": [],
   "source": [
    "df = df.with_columns(pl.when(pl.col('portfolio') != [[]]).then(pl.col('portfolio')),\n",
    "                     pl.when(pl.col('trades').list.len() > 0).then(pl.col('trades'))\n",
    "                     )"
   ]
  },
  {
   "cell_type": "code",
   "execution_count": 177,
   "metadata": {},
   "outputs": [],
   "source": [
    "# Убираем людей, у которых нет счета\n",
    "df = df.filter(~pl.col('yields').str.contains('No acc') | pl.col('yields').is_null())"
   ]
  },
  {
   "cell_type": "code",
   "execution_count": 178,
   "metadata": {},
   "outputs": [],
   "source": [
    "# Убираем аккаунты компаний\n",
    "df = df.filter(~pl.col('yields').str.contains('Not invest') | pl.col('yields').is_null())"
   ]
  },
  {
   "cell_type": "code",
   "execution_count": 179,
   "metadata": {},
   "outputs": [],
   "source": [
    "# Убираем скрытые профили\n",
    "df = df.filter(~pl.col('n_subscribtions').is_null() & ~pl.col('n_subscribers').is_null())"
   ]
  },
  {
   "cell_type": "code",
   "execution_count": 180,
   "metadata": {},
   "outputs": [],
   "source": [
    "# Убираем забагованные профили с активами до 1 рубля\n",
    "df = df.filter(~pl.col('size').str.contains('до1₽'))"
   ]
  },
  {
   "cell_type": "code",
   "execution_count": 4,
   "metadata": {},
   "outputs": [],
   "source": [
    "df = pl.read_parquet('Article 3 Data/Profiles/preprocessed.parquet')"
   ]
  },
  {
   "cell_type": "code",
   "execution_count": 197,
   "metadata": {},
   "outputs": [],
   "source": [
    "df = df.filter(~pl.col('yields').str.contains('bugged'))"
   ]
  },
  {
   "cell_type": "code",
   "execution_count": 201,
   "metadata": {},
   "outputs": [],
   "source": [
    "company_profiles = df.filter(pl.col('portfolio').is_null() & pl.col('trades').is_null() & pl.col('yields').is_null())['name'].to_list()"
   ]
  },
  {
   "cell_type": "code",
   "execution_count": 203,
   "metadata": {},
   "outputs": [],
   "source": [
    "df.write_parquet('Article 3 Data/Profiles/preprocessed.parquet')"
   ]
  },
  {
   "cell_type": "markdown",
   "metadata": {},
   "source": [
    "#### Преобразование доходностей к удобному виду"
   ]
  },
  {
   "cell_type": "code",
   "execution_count": 34,
   "metadata": {},
   "outputs": [],
   "source": [
    "df = pl.read_parquet('Article 3 Data/Profiles/preprocessed.parquet')"
   ]
  },
  {
   "cell_type": "code",
   "execution_count": 35,
   "metadata": {},
   "outputs": [],
   "source": [
    "df = df.with_columns(\n",
    "    type = pl.col('portfolio').list.get(0),\n",
    "    name = pl.col('portfolio').list.get(1),\n",
    "    sector = pl.col('portfolio').list.get(2),\n",
    "    currency = pl.col('portfolio').list.get(3),\n",
    ").drop('portfolio')"
   ]
  },
  {
   "cell_type": "code",
   "execution_count": 36,
   "metadata": {},
   "outputs": [],
   "source": [
    "def parse_data(row):\n",
    "    try:\n",
    "        data = eval(row)\n",
    "        flat = {}\n",
    "        for year, months in data.items():\n",
    "            for month_dict in months:\n",
    "                for month, value in month_dict.items():\n",
    "                    col_name = f\"{year}_{month}\"\n",
    "                    flat[col_name] = value\n",
    "        return flat\n",
    "    except:\n",
    "        return {}\n",
    "    \n",
    "df = df.with_columns(\n",
    "    pl.col('yields').map_elements(parse_data, return_dtype=pl.Struct)\n",
    ").unnest(\"yields\")"
   ]
  },
  {
   "cell_type": "code",
   "execution_count": 37,
   "metadata": {},
   "outputs": [],
   "source": [
    "df.write_parquet('Article 3 Data/Profiles/preprocessed.parquet')"
   ]
  },
  {
   "cell_type": "markdown",
   "metadata": {},
   "source": [
    "## Сбор всех комментов в один файл"
   ]
  },
  {
   "cell_type": "code",
   "execution_count": 1,
   "metadata": {},
   "outputs": [],
   "source": [
    "import os\n",
    "import gzip\n",
    "import polars as pl\n",
    "from tqdm import tqdm"
   ]
  },
  {
   "cell_type": "code",
   "execution_count": 2,
   "metadata": {},
   "outputs": [],
   "source": [
    "def prep_df(df: pl.DataFrame):\n",
    "    return df.with_columns(pl.col('tickers').cast(pl.List(str)), pl.col('prices').cast(pl.List(str)), pl.col('comments').cast(pl.List(pl.List(str))), pl.col('reactions').cast(pl.List(str)))"
   ]
  },
  {
   "cell_type": "code",
   "execution_count": 3,
   "metadata": {},
   "outputs": [
    {
     "name": "stdout",
     "output_type": "stream",
     "text": [
      "28apr\n"
     ]
    },
    {
     "name": "stderr",
     "output_type": "stream",
     "text": [
      "100%|██████████| 63903/63903 [07:24<00:00, 143.84it/s]\n"
     ]
    },
    {
     "name": "stdout",
     "output_type": "stream",
     "text": [
      "28apr_error\n"
     ]
    },
    {
     "name": "stderr",
     "output_type": "stream",
     "text": [
      "100%|██████████| 53/53 [00:00<00:00, 137.53it/s]\n"
     ]
    }
   ],
   "source": [
    "files = ['28apr', '28apr_error'] #os.listdir('Article 3 Data/posts')\n",
    "for folder in [f for f in files if '.parquet' not in f]:\n",
    "    print(folder)\n",
    "    dfs = [prep_df(pl.read_parquet(f'Article 3 Data/posts/{folder}/{file}')) for file in tqdm(os.listdir(f'Article 3 Data/posts/{folder}'))]\n",
    "    pl.concat(dfs, how='diagonal_relaxed').write_parquet(f'Article 3 Data/posts/{folder}.parquet')  "
   ]
  },
  {
   "cell_type": "code",
   "execution_count": 4,
   "metadata": {},
   "outputs": [],
   "source": [
    "concat_files = [el + '.parquet' for el in files] # os.listdir(\"Article 3 Data/posts\")\n",
    "df = pl.concat([pl.read_parquet(f\"Article 3 Data/posts/{el}\") for el in concat_files if 'parquet' in el])\n",
    "df.write_parquet('Article 3 Data/posts/gathered_28apr.parquet')"
   ]
  },
  {
   "cell_type": "code",
   "execution_count": null,
   "metadata": {},
   "outputs": [],
   "source": [
    "# df.write_parquet('Article 3 Data/posts/gathered.parquet')"
   ]
  },
  {
   "cell_type": "markdown",
   "metadata": {},
   "source": [
    "### Работа с профилями"
   ]
  },
  {
   "cell_type": "code",
   "execution_count": null,
   "metadata": {},
   "outputs": [],
   "source": [
    "with gzip.open('all_profiles.gz', 'rb') as f:\n",
    "    all_profiles = f.readlines()\n",
    "    all_profiles = [p.decode().replace('\\n', '') for p in all_profiles]"
   ]
  },
  {
   "cell_type": "code",
   "execution_count": 173,
   "metadata": {},
   "outputs": [
    {
     "name": "stderr",
     "output_type": "stream",
     "text": [
      "100%|██████████| 2360/2360 [00:01<00:00, 2256.20it/s]\n"
     ]
    }
   ],
   "source": [
    "root = 'bugged_raw'\n",
    "error_files = []\n",
    "def error_handle(file):\n",
    "    try:\n",
    "        if file == 'muhametislamov.parquet':\n",
    "            return pl.DataFrame([[None], [None]], strict=False)\n",
    "            \n",
    "        return pl.read_parquet(f'Article 3 Data/Profiles/{root}/{file}')\n",
    "    except Exception:\n",
    "        error_files.append(file)\n",
    "        return pl.DataFrame([[None], [None]], strict=False)\n",
    "\n",
    "# def prep_df(df: pl.DataFrame):\n",
    "#     if df.dtypes[0] == pl.List(pl.List(pl.Null)):\n",
    "#         df = df.with_columns(column_0 = [['']])\n",
    "#     if df['column_0'].dtype == pl.List(pl.String):\n",
    "#         df = df.with_columns(column_0 = [['Company']])\n",
    "#     if df.dtypes[1] == pl.Null:\n",
    "#         df = df.with_columns(column_1 = [''])\n",
    "#     return df\n",
    "\n",
    "dfs = [error_handle(file) for file in tqdm(os.listdir(f'Article 3 Data/Profiles/{root}'))]\n",
    "df = pl.concat(dfs, how=\"diagonal_relaxed\")\n",
    "df = df.with_columns(pl.Series('name', [el.replace('.parquet', '') for el in os.listdir(f'Article 3 Data/Profiles/{root}')]))\n",
    "# df.write_parquet('Article 3 Data/Profiles/gathered.parquet')"
   ]
  },
  {
   "cell_type": "code",
   "execution_count": 191,
   "metadata": {},
   "outputs": [],
   "source": [
    "drop_names = [el.replace('.parquet', '') for el in os.listdir(f'Article 3 Data/Profiles/error_small')]"
   ]
  },
  {
   "cell_type": "markdown",
   "metadata": {},
   "source": [
    "## Получаем все ссылки на посты"
   ]
  },
  {
   "cell_type": "code",
   "execution_count": 1,
   "metadata": {},
   "outputs": [],
   "source": [
    "import os\n",
    "import gzip\n",
    "import shutil\n",
    "import requests\n",
    "import xmltodict\n",
    "import time\n",
    "\n",
    "from tqdm import tqdm"
   ]
  },
  {
   "cell_type": "code",
   "execution_count": 2,
   "metadata": {},
   "outputs": [],
   "source": [
    "root = 'all xmls/xmls_9may/'\n",
    "# Преобразуем файл со всеми ссылками на сайтмапы\n",
    "def prep_xml(gz_file_root: str):\n",
    "    \n",
    "    with gzip.open(gz_file_root, 'rb') as f_in:\n",
    "        f_in.readline()\n",
    "        with open(gz_file_root.replace('.gz', ''), 'wb') as f_out:\n",
    "            f_out.write(b'<urlset xmlns=\"http://www.sitemaps.org/schemas/sitemap/0.9\">\\n')\n",
    "            shutil.copyfileobj(f_in, f_out)\n",
    "    os.remove(gz_file_root)"
   ]
  },
  {
   "cell_type": "code",
   "execution_count": 3,
   "metadata": {},
   "outputs": [],
   "source": [
    "prep_xml(f'{root}pulse.xml.gz')"
   ]
  },
  {
   "cell_type": "code",
   "execution_count": 4,
   "metadata": {},
   "outputs": [],
   "source": [
    "# Вытаскиваем все ссылки на сайтмапы\n",
    "def extract_xmlgz_links(pulse_xml_root: str):\n",
    "    with open(pulse_xml_root, 'r')as file:\n",
    "        data = xmltodict.parse(file.read())\n",
    "    if 'sitemap' in pulse_xml_root:\n",
    "        return [el['loc'] for el in data['urlset']['url']]\n",
    "    return [el['loc'] for el in data['urlset']['sitemap']]"
   ]
  },
  {
   "cell_type": "code",
   "execution_count": 5,
   "metadata": {},
   "outputs": [],
   "source": [
    "gz_links = extract_xmlgz_links(f'{root}pulse.xml')"
   ]
  },
  {
   "cell_type": "code",
   "execution_count": 6,
   "metadata": {},
   "outputs": [],
   "source": [
    "# Загружаем все сайтмапы\n",
    "def load_gz(link: str, save_root: str=root):\n",
    "    name = link.split('/')[-1]\n",
    "    file = requests.get(link, stream=True).content\n",
    "    with open(save_root + name, 'wb') as f:\n",
    "        f.write(file)"
   ]
  },
  {
   "cell_type": "code",
   "execution_count": 7,
   "metadata": {},
   "outputs": [
    {
     "name": "stderr",
     "output_type": "stream",
     "text": [
      "100%|██████████| 115/115 [02:15<00:00,  1.18s/it]\n"
     ]
    }
   ],
   "source": [
    "for link in tqdm(gz_links):\n",
    "    load_gz(link)\n",
    "    time.sleep(1)"
   ]
  },
  {
   "cell_type": "code",
   "execution_count": 8,
   "metadata": {},
   "outputs": [],
   "source": [
    "gz_files = [f for f in os.listdir(root) if '.gz' in f]"
   ]
  },
  {
   "cell_type": "code",
   "execution_count": 9,
   "metadata": {},
   "outputs": [
    {
     "name": "stderr",
     "output_type": "stream",
     "text": [
      "100%|██████████| 115/115 [00:04<00:00, 27.03it/s]\n"
     ]
    }
   ],
   "source": [
    "# Обрабатываем полученные сайтмапы\n",
    "for file in tqdm(gz_files):\n",
    "    prep_xml(f'{root}{file}')"
   ]
  },
  {
   "cell_type": "code",
   "execution_count": 10,
   "metadata": {},
   "outputs": [],
   "source": [
    "xml_files = [f for f in os.listdir(root) if '.xml' in f and 'sitemap' in f]"
   ]
  },
  {
   "cell_type": "code",
   "execution_count": 11,
   "metadata": {},
   "outputs": [],
   "source": [
    "# Получаем ссылки для одного файла\n",
    "def get_all_links(root):\n",
    "    with gzip.open(root, 'r') as f:\n",
    "        list_of_links = f.readlines()\n",
    "    return [el.decode().replace('\\n', '') for el in list_of_links]\n",
    "\n",
    "# Достаем все ссылки, которые уже распарсили\n",
    "def get_all_parsed_links(main_root):\n",
    "    list_of_links = set()\n",
    "    for root in os.listdir(main_root):\n",
    "        with gzip.open(f'{main_root}/{root}', 'r') as f:\n",
    "            list_of_links = list_of_links.union(set(f.readlines()))\n",
    "    return [el.decode().replace('\\n', '') for el in list_of_links]"
   ]
  },
  {
   "cell_type": "code",
   "execution_count": 12,
   "metadata": {},
   "outputs": [
    {
     "data": {
      "text/plain": [
       "5939598"
      ]
     },
     "execution_count": 12,
     "metadata": {},
     "output_type": "execute_result"
    }
   ],
   "source": [
    "parsed_links = get_all_parsed_links('post_links')\n",
    "len(parsed_links)"
   ]
  },
  {
   "cell_type": "code",
   "execution_count": 43,
   "metadata": {},
   "outputs": [],
   "source": [
    "with gzip.open('post_links/bad_links.gz', 'rb') as f:\n",
    "    bad_links = f.readlines()\n",
    "    bad_links = [p.decode().replace('\\n', '') for p in bad_links]\n",
    "\n",
    "with gzip.open('post_links/all_gathered_links_2may.gz', 'rb') as f:\n",
    "    prev_links = f.readlines()\n",
    "    prev_links = [p.decode().replace('\\n', '') for p in prev_links]"
   ]
  },
  {
   "cell_type": "code",
   "execution_count": 45,
   "metadata": {},
   "outputs": [],
   "source": [
    "new_links =  (set(parsed_links) - set(prev_links)) - set(bad_links)"
   ]
  },
  {
   "cell_type": "code",
   "execution_count": 47,
   "metadata": {},
   "outputs": [
    {
     "data": {
      "text/plain": [
       "{'РћС€РёР±РєР° РїСЂРё СЃРѕР·РґР°РЅРёРё С‚Р°Р±Р»РёС†С‹'}"
      ]
     },
     "execution_count": 47,
     "metadata": {},
     "output_type": "execute_result"
    }
   ],
   "source": [
    "new_links"
   ]
  },
  {
   "cell_type": "code",
   "execution_count": null,
   "metadata": {},
   "outputs": [],
   "source": [
    "with gzip.open('post_links/_links.gz', 'w') as f:\n",
    "    for link in new_links:\n",
    "        f.write(f'{link}\\n'.encode())"
   ]
  },
  {
   "cell_type": "markdown",
   "metadata": {},
   "source": [
    "## Обработка лог файлов"
   ]
  },
  {
   "cell_type": "code",
   "execution_count": 19,
   "metadata": {},
   "outputs": [],
   "source": [
    "import gzip"
   ]
  },
  {
   "cell_type": "code",
   "execution_count": 1,
   "metadata": {},
   "outputs": [],
   "source": [
    "with open('loggs/parsing_error.log') as file:\n",
    "    loggs = file.readlines()"
   ]
  },
  {
   "cell_type": "code",
   "execution_count": 25,
   "metadata": {},
   "outputs": [],
   "source": [
    "def get_error_links(loggs):\n",
    "    return [el.split(' - ')[2] for el in loggs if 'ERROR' in el]"
   ]
  },
  {
   "cell_type": "code",
   "execution_count": 26,
   "metadata": {},
   "outputs": [],
   "source": [
    "error_list_of_links = get_error_links(loggs)"
   ]
  },
  {
   "cell_type": "code",
   "execution_count": 20,
   "metadata": {},
   "outputs": [],
   "source": [
    "with gzip.open('18mar_error_links.gz', 'w') as f:\n",
    "    for link in error_list_of_links:\n",
    "        f.write(f'{link}\\n'.encode())"
   ]
  },
  {
   "cell_type": "code",
   "execution_count": 17,
   "metadata": {},
   "outputs": [],
   "source": [
    "with gzip.open('all_links_new_error_error.gz', 'r') as f:\n",
    "    error_list_of_links = f.readlines()"
   ]
  },
  {
   "cell_type": "code",
   "execution_count": 18,
   "metadata": {},
   "outputs": [
    {
     "data": {
      "text/plain": [
       "[b'https://www.tbank.ru/invest/social/profile/Maksim_averin/10557633-1c11-4ee9-afa1-7e4203782b15/\\n',\n",
       " b'https://www.tbank.ru/invest/social/profile/Xobot_Slona/fc7d72e1-c1db-4b72-a6ef-cfc5b9eef885/\\n',\n",
       " b'https://www.tbank.ru/invest/social/profile/mixa33e/42c4ad16-ed6a-4e4f-be25-78a8c60a40c8/\\n',\n",
       " b'https://www.tbank.ru/invest/social/profile/pipes/ab70edcb-dcc9-42dc-ab93-4ce63228d587/\\n']"
      ]
     },
     "execution_count": 18,
     "metadata": {},
     "output_type": "execute_result"
    }
   ],
   "source": [
    "error_list_of_links"
   ]
  },
  {
   "cell_type": "markdown",
   "metadata": {},
   "source": [
    "## Получаем все профили"
   ]
  },
  {
   "cell_type": "code",
   "execution_count": 3,
   "metadata": {},
   "outputs": [],
   "source": [
    "files = [f for f in os.listdir() if '.gz' in f]"
   ]
  },
  {
   "cell_type": "code",
   "execution_count": 23,
   "metadata": {},
   "outputs": [
    {
     "name": "stderr",
     "output_type": "stream",
     "text": [
      "100%|██████████| 5/5 [00:11<00:00,  2.34s/it]\n"
     ]
    }
   ],
   "source": [
    "all_profiles = []\n",
    "for f in tqdm(files):\n",
    "    with gzip.open(f, 'rb') as f:\n",
    "        lst = f.readlines()\n",
    "        lst = [l.split('/')[6] for l in list_of_links]\n",
    "        all_profiles.extend(lst)\n",
    "\n",
    "all_profiles = list(set(all_profiles))"
   ]
  },
  {
   "cell_type": "code",
   "execution_count": 25,
   "metadata": {},
   "outputs": [
    {
     "data": {
      "text/plain": [
       "360918"
      ]
     },
     "execution_count": 25,
     "metadata": {},
     "output_type": "execute_result"
    }
   ],
   "source": [
    "len(all_profiles)"
   ]
  },
  {
   "cell_type": "code",
   "execution_count": 29,
   "metadata": {},
   "outputs": [],
   "source": [
    "with gzip.open('all_profiles.gz', 'w') as f:\n",
    "    for link in all_profiles:\n",
    "        f.write(f'{link}\\n'.encode())"
   ]
  },
  {
   "cell_type": "code",
   "execution_count": 32,
   "metadata": {},
   "outputs": [],
   "source": [
    "with gzip.open('all_profiles.gz', 'rb') as f:\n",
    "    all_profiles = f.readlines()\n",
    "    all_profiles = [p.decode().replace('\\n', '') for p in all_profiles]"
   ]
  },
  {
   "cell_type": "markdown",
   "metadata": {},
   "source": [
    "# Обработка логов для выделения комментариев закрытых профилей"
   ]
  },
  {
   "cell_type": "code",
   "execution_count": 15,
   "metadata": {},
   "outputs": [],
   "source": [
    "with open('loggs/parsing_error.log', 'r') as f:\n",
    "    loggs = f.readlines()\n",
    "\n",
    "with open('loggs/parsing_error_error.log', 'r') as f:\n",
    "    loggs1 = f.readlines()"
   ]
  },
  {
   "cell_type": "code",
   "execution_count": 16,
   "metadata": {},
   "outputs": [],
   "source": [
    "loggs = set([log for log in loggs if 'NoneType' in log] + [log for log in loggs1 if 'NoneType' in log])"
   ]
  },
  {
   "cell_type": "code",
   "execution_count": 18,
   "metadata": {},
   "outputs": [],
   "source": [
    "deleted_posts = set([log.split(' - ')[2] for log in loggs])"
   ]
  },
  {
   "cell_type": "code",
   "execution_count": 19,
   "metadata": {},
   "outputs": [],
   "source": [
    "closed_links = set([f'https://www.tbank.ru/invest/social/profile/{a}/{i}/' for a, i in zip(df1['author'], df1['id'])])"
   ]
  },
  {
   "cell_type": "code",
   "execution_count": 21,
   "metadata": {},
   "outputs": [],
   "source": [
    "bad_links = deleted_posts.union(closed_links)"
   ]
  },
  {
   "cell_type": "code",
   "execution_count": 25,
   "metadata": {},
   "outputs": [],
   "source": [
    "import gzip\n",
    "with gzip.open('bad_links.gz', 'w') as f:\n",
    "    for link in bad_links:\n",
    "        f.write(f'{link}\\n'.encode())"
   ]
  }
 ],
 "metadata": {
  "kernelspec": {
   "display_name": "Python 3",
   "language": "python",
   "name": "python3"
  },
  "language_info": {
   "codemirror_mode": {
    "name": "ipython",
    "version": 3
   },
   "file_extension": ".py",
   "mimetype": "text/x-python",
   "name": "python",
   "nbconvert_exporter": "python",
   "pygments_lexer": "ipython3",
   "version": "3.13.1"
  }
 },
 "nbformat": 4,
 "nbformat_minor": 2
}
